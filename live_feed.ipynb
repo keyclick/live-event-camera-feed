{
 "cells": [
  {
   "cell_type": "code",
   "execution_count": null,
   "id": "9861ae08-8004-48b2-884c-c2fb08b7e9e9",
   "metadata": {},
   "outputs": [],
   "source": [
    "import dv_processing as dv\n",
    "import numpy as np\n",
    "import tensorflow as tf\n",
    "import cv2 as cv"
   ]
  },
  {
   "cell_type": "code",
   "execution_count": null,
   "id": "b190dc0e-d222-4f47-9c36-265716c06a9c",
   "metadata": {},
   "outputs": [
    {
     "ename": "RuntimeError",
     "evalue": "No compatible device discovered",
     "output_type": "error",
     "traceback": [
      "\u001b[1;31m---------------------------------------------------------------------------\u001b[0m",
      "\u001b[1;31mRuntimeError\u001b[0m                              Traceback (most recent call last)",
      "Cell \u001b[1;32mIn[5], line 5\u001b[0m\n\u001b[0;32m      2\u001b[0m movenet \u001b[38;5;241m=\u001b[39m tf\u001b[38;5;241m.\u001b[39msaved_model\u001b[38;5;241m.\u001b[39mload(\u001b[38;5;124mr\u001b[39m\u001b[38;5;124m\"\u001b[39m\u001b[38;5;124mD:\u001b[39m\u001b[38;5;124m\\\u001b[39m\u001b[38;5;124mArbeit\u001b[39m\u001b[38;5;124m\\\u001b[39m\u001b[38;5;124mEvent Camera\u001b[39m\u001b[38;5;124m\\\u001b[39m\u001b[38;5;124maedattomp4\u001b[39m\u001b[38;5;124m\\\u001b[39m\u001b[38;5;124marchive\u001b[39m\u001b[38;5;124m\"\u001b[39m)\n\u001b[0;32m      4\u001b[0m \u001b[38;5;66;03m# Connect to the camera\u001b[39;00m\n\u001b[1;32m----> 5\u001b[0m capture \u001b[38;5;241m=\u001b[39m \u001b[43mdv\u001b[49m\u001b[38;5;241;43m.\u001b[39;49m\u001b[43mio\u001b[49m\u001b[38;5;241;43m.\u001b[39;49m\u001b[43mCameraCapture\u001b[49m\u001b[43m(\u001b[49m\u001b[43m)\u001b[49m\n\u001b[0;32m      6\u001b[0m \u001b[38;5;28mprint\u001b[39m(\u001b[38;5;124mf\u001b[39m\u001b[38;5;124m\"\u001b[39m\u001b[38;5;124m✅ Connected to: \u001b[39m\u001b[38;5;132;01m{\u001b[39;00mcapture\u001b[38;5;241m.\u001b[39mgetCameraName()\u001b[38;5;132;01m}\u001b[39;00m\u001b[38;5;124m\"\u001b[39m)\n\u001b[0;32m      8\u001b[0m \u001b[38;5;66;03m# Get event resolution\u001b[39;00m\n",
      "\u001b[1;31mRuntimeError\u001b[0m: No compatible device discovered"
     ]
    }
   ],
   "source": [
    "\n",
    "\n",
    "# Load MoveNet model (lightweight version is preferred for speed)\n",
    "movenet = tf.saved_model.load(r\"D:\\Arbeit\\Event Camera\\aedattomp4\\archive\")\n",
    "\n",
    "# Connect to the camera\n",
    "capture = dv.io.CameraCapture()\n",
    "print(f\"✅ Connected to: {capture.getCameraName()}\")\n",
    "\n",
    "# Get event resolution\n",
    "resolution = capture.getEventResolution()\n",
    "width, height = resolution.width, resolution.height\n",
    "\n",
    "# Initialize accumulator\n",
    "event_accumulator = np.zeros((height, width), dtype=np.uint8)\n",
    "\n",
    "# Display window\n",
    "cv.namedWindow(\"Live Pose\", cv.WINDOW_NORMAL)\n",
    "\n",
    "# Define keypoint connections\n",
    "connections = [\n",
    "    (0, 1), (0, 2), (1, 3), (2, 4),\n",
    "    (0, 5), (0, 6), (5, 7), (7, 9),\n",
    "    (6, 8), (8, 10), (5, 6), (5, 11),\n",
    "    (6, 12), (11, 12), (11, 13), (13, 15),\n",
    "    (12, 14), (14, 16)\n",
    "]\n",
    "\n",
    "def detect_pose(frame):\n",
    "    rgb = cv.cvtColor(frame, cv.COLOR_BGR2RGB)\n",
    "    input_image = tf.image.resize_with_pad(tf.expand_dims(rgb, axis=0), 192, 192)\n",
    "    input_image = tf.cast(input_image, dtype=tf.int32)\n",
    "    return movenet.signatures['serving_default'](input_image)['output_0'].numpy()\n",
    "\n",
    "def draw_keypoints(frame, keypoints):\n",
    "    h, w, _ = frame.shape\n",
    "    keypoints = keypoints[0, 0]\n",
    "    \n",
    "    for y, x, c in keypoints:\n",
    "        if c > 0.3:\n",
    "            cx, cy = int(x * w), int(y * h)\n",
    "            cv2.circle(frame, (cx, cy), 4, (255, 0, 0), -1)\n",
    "    \n",
    "    for a, b in connections:\n",
    "        y1, x1, c1 = keypoints[a]\n",
    "        y2, x2, c2 = keypoints[b]\n",
    "        if c1 > 0.3 and c2 > 0.3:\n",
    "            pt1 = (int(x1 * w), int(y1 * h))\n",
    "            pt2 = (int(x2 * w), int(y2 * h))\n",
    "            cv2.line(frame, pt1, pt2, (0, 255, 0), 2)\n",
    "    \n",
    "    return frame\n"
   ]
  },
  {
   "cell_type": "code",
   "execution_count": null,
   "id": "c2c4111e-a6be-4d0c-a898-35bd978256b1",
   "metadata": {},
   "outputs": [],
   "source": []
  }
 ],
 "metadata": {
  "kernelspec": {
   "display_name": "Python (dv-envnew)",
   "language": "python",
   "name": "dv-env"
  },
  "language_info": {
   "codemirror_mode": {
    "name": "ipython",
    "version": 3
   },
   "file_extension": ".py",
   "mimetype": "text/x-python",
   "name": "python",
   "nbconvert_exporter": "python",
   "pygments_lexer": "ipython3",
   "version": "3.11.1"
  }
 },
 "nbformat": 4,
 "nbformat_minor": 5
}
